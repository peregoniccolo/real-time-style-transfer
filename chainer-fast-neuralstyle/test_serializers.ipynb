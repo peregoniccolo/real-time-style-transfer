{
 "cells": [
  {
   "cell_type": "code",
   "execution_count": 1,
   "metadata": {},
   "outputs": [],
   "source": [
    "from chainer import cuda, Variable, optimizers, serializers\n",
    "from net import *"
   ]
  },
  {
   "cell_type": "code",
   "execution_count": 2,
   "metadata": {},
   "outputs": [],
   "source": [
    "model = FastStyleNet()\n",
    "serializers.load_npz('models/altocumulus-test/final_altocumulus-test.model', model)\n",
    "# model.info"
   ]
  },
  {
   "cell_type": "code",
   "execution_count": 3,
   "metadata": {},
   "outputs": [],
   "source": [
    "serializers.save_npz(f'models/altocumulus-test/test.model', model)"
   ]
  },
  {
   "cell_type": "code",
   "execution_count": 4,
   "metadata": {},
   "outputs": [
    {
     "ename": "AttributeError",
     "evalue": "'dict' object has no attribute 'serialize'",
     "output_type": "error",
     "traceback": [
      "\u001b[0;31m---------------------------------------------------------------------------\u001b[0m",
      "\u001b[0;31mAttributeError\u001b[0m                            Traceback (most recent call last)",
      "\u001b[1;32m/home/dargendanico/Scrivania/real-time-style-transfer/chainer-fast-neuralstyle/test_serializers.ipynb Cell 4\u001b[0m line \u001b[0;36m2\n\u001b[1;32m      <a href='vscode-notebook-cell:/home/dargendanico/Scrivania/real-time-style-transfer/chainer-fast-neuralstyle/test_serializers.ipynb#W4sZmlsZQ%3D%3D?line=0'>1</a>\u001b[0m retrieved \u001b[39m=\u001b[39m {}\n\u001b[0;32m----> <a href='vscode-notebook-cell:/home/dargendanico/Scrivania/real-time-style-transfer/chainer-fast-neuralstyle/test_serializers.ipynb#W4sZmlsZQ%3D%3D?line=1'>2</a>\u001b[0m serializers\u001b[39m.\u001b[39;49mload_npz(\u001b[39m'\u001b[39;49m\u001b[39mmodels/altocumulus-test/test.model\u001b[39;49m\u001b[39m'\u001b[39;49m, retrieved)\n",
      "File \u001b[0;32m~/miniconda3/envs/chainer/lib/python3.9/site-packages/chainer/serializers/npz.py:243\u001b[0m, in \u001b[0;36mload_npz\u001b[0;34m(file, obj, path, strict, ignore_names)\u001b[0m\n\u001b[1;32m    240\u001b[0m \u001b[39mwith\u001b[39;00m numpy\u001b[39m.\u001b[39mload(file, \u001b[39m*\u001b[39m\u001b[39m*\u001b[39m_allow_pickle_kwargs) \u001b[39mas\u001b[39;00m f:\n\u001b[1;32m    241\u001b[0m     d \u001b[39m=\u001b[39m NpzDeserializer(\n\u001b[1;32m    242\u001b[0m         f, path\u001b[39m=\u001b[39mpath, strict\u001b[39m=\u001b[39mstrict, ignore_names\u001b[39m=\u001b[39mignore_names)\n\u001b[0;32m--> 243\u001b[0m     d\u001b[39m.\u001b[39;49mload(obj)\n",
      "File \u001b[0;32m~/miniconda3/envs/chainer/lib/python3.9/site-packages/chainer/serializer.py:83\u001b[0m, in \u001b[0;36mDeserializer.load\u001b[0;34m(self, obj)\u001b[0m\n\u001b[1;32m     74\u001b[0m \u001b[39mdef\u001b[39;00m \u001b[39mload\u001b[39m(\u001b[39mself\u001b[39m, obj):\n\u001b[1;32m     75\u001b[0m \u001b[39m    \u001b[39m\u001b[39m\"\"\"Loads an object from this deserializer.\u001b[39;00m\n\u001b[1;32m     76\u001b[0m \n\u001b[1;32m     77\u001b[0m \u001b[39m    This is equivalent to ``obj.serialize(self)``.\u001b[39;00m\n\u001b[0;32m   (...)\u001b[0m\n\u001b[1;32m     81\u001b[0m \n\u001b[1;32m     82\u001b[0m \u001b[39m    \"\"\"\u001b[39;00m\n\u001b[0;32m---> 83\u001b[0m     obj\u001b[39m.\u001b[39;49mserialize(\u001b[39mself\u001b[39m)\n",
      "\u001b[0;31mAttributeError\u001b[0m: 'dict' object has no attribute 'serialize'"
     ]
    }
   ],
   "source": [
    "retrieved = {}\n",
    "serializers.load_npz('models/altocumulus-test/test.model', retrieved)"
   ]
  },
  {
   "cell_type": "code",
   "execution_count": null,
   "metadata": {},
   "outputs": [],
   "source": []
  }
 ],
 "metadata": {
  "kernelspec": {
   "display_name": "chainer",
   "language": "python",
   "name": "python3"
  },
  "language_info": {
   "codemirror_mode": {
    "name": "ipython",
    "version": 3
   },
   "file_extension": ".py",
   "mimetype": "text/x-python",
   "name": "python",
   "nbconvert_exporter": "python",
   "pygments_lexer": "ipython3",
   "version": "3.9.18"
  },
  "orig_nbformat": 4
 },
 "nbformat": 4,
 "nbformat_minor": 2
}
